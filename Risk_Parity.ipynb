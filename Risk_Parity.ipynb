{
 "cells": [
  {
   "cell_type": "markdown",
   "metadata": {},
   "source": [
    "# Risk Parity portfolio\n",
    "\n",
    "Risk parity portfolios allocate equal amounts of risk for each stock towards the overall risk of the portfolio. For instance, if we have a 5 stock portfolio, each of these will allocate 20% of risk. Based on this risk allocation, we find the optimal weights in terms of dollar amounts which we invest in each of those stocks. This is a sophisticated diversification technique that focuses on risk analysis. \n",
    "\n",
    "Data is from the Ken French Website on 12 US industries. I will be allocating between 5 different industries."
   ]
  },
  {
   "cell_type": "code",
   "execution_count": 13,
   "metadata": {},
   "outputs": [
    {
     "data": {
      "text/html": [
       "<div>\n",
       "<style scoped>\n",
       "    .dataframe tbody tr th:only-of-type {\n",
       "        vertical-align: middle;\n",
       "    }\n",
       "\n",
       "    .dataframe tbody tr th {\n",
       "        vertical-align: top;\n",
       "    }\n",
       "\n",
       "    .dataframe thead th {\n",
       "        text-align: right;\n",
       "    }\n",
       "</style>\n",
       "<table border=\"1\" class=\"dataframe\">\n",
       "  <thead>\n",
       "    <tr style=\"text-align: right;\">\n",
       "      <th></th>\n",
       "      <th>Manuf</th>\n",
       "      <th>Enrgy</th>\n",
       "      <th>Telcm</th>\n",
       "      <th>Utils</th>\n",
       "      <th>Hlth</th>\n",
       "    </tr>\n",
       "  </thead>\n",
       "  <tbody>\n",
       "    <tr>\n",
       "      <th>2019-12</th>\n",
       "      <td>0.0345</td>\n",
       "      <td>0.2038</td>\n",
       "      <td>0.0367</td>\n",
       "      <td>0.0442</td>\n",
       "      <td>0.0966</td>\n",
       "    </tr>\n",
       "    <tr>\n",
       "      <th>2020-01</th>\n",
       "      <td>-0.0293</td>\n",
       "      <td>-0.1972</td>\n",
       "      <td>-0.0082</td>\n",
       "      <td>0.0120</td>\n",
       "      <td>0.0426</td>\n",
       "    </tr>\n",
       "    <tr>\n",
       "      <th>2020-02</th>\n",
       "      <td>-0.0819</td>\n",
       "      <td>-0.1856</td>\n",
       "      <td>-0.0463</td>\n",
       "      <td>-0.1017</td>\n",
       "      <td>-0.0081</td>\n",
       "    </tr>\n",
       "    <tr>\n",
       "      <th>2020-03</th>\n",
       "      <td>-0.2458</td>\n",
       "      <td>-0.4746</td>\n",
       "      <td>-0.2354</td>\n",
       "      <td>-0.1036</td>\n",
       "      <td>-0.1728</td>\n",
       "    </tr>\n",
       "    <tr>\n",
       "      <th>2020-04</th>\n",
       "      <td>0.1651</td>\n",
       "      <td>0.6777</td>\n",
       "      <td>0.1042</td>\n",
       "      <td>0.0828</td>\n",
       "      <td>0.2168</td>\n",
       "    </tr>\n",
       "  </tbody>\n",
       "</table>\n",
       "</div>"
      ],
      "text/plain": [
       "          Manuf   Enrgy   Telcm   Utils    Hlth\n",
       "2019-12  0.0345  0.2038  0.0367  0.0442  0.0966\n",
       "2020-01 -0.0293 -0.1972 -0.0082  0.0120  0.0426\n",
       "2020-02 -0.0819 -0.1856 -0.0463 -0.1017 -0.0081\n",
       "2020-03 -0.2458 -0.4746 -0.2354 -0.1036 -0.1728\n",
       "2020-04  0.1651  0.6777  0.1042  0.0828  0.2168"
      ]
     },
     "execution_count": 13,
     "metadata": {},
     "output_type": "execute_result"
    }
   ],
   "source": [
    "import numpy as np\n",
    "import pandas as pd\n",
    "import matplotlib.pyplot as plt\n",
    "%matplotlib inline\n",
    "\n",
    "ind_12_ew = pd.read_csv(\"12_Industry_Portfolios.csv\", \n",
    "                     header = 0, index_col = 0, parse_dates = True, na_values=-99.99)/100\n",
    "ind_12_ew.index = pd.to_datetime(ind_12_ew.index, format = '%Y%m').to_period('M')\n",
    "ind_12_ew.columns = ind_12_ew.columns.str.strip()\n",
    "ind = [\"Manuf\", \"Enrgy\", \"Telcm\", \"Utils\", \"Hlth\"]\n",
    "rets = ind_12_ew[\"2010\":][ind]\n",
    "rets.tail()"
   ]
  },
  {
   "cell_type": "code",
   "execution_count": 22,
   "metadata": {},
   "outputs": [],
   "source": [
    "cov = rets.cov()\n",
    "\n",
    "# Equal-weights function\n",
    "def equal_weights(rets):\n",
    "    n = len(rets.columns)\n",
    "    weights = pd.Series(1/n, index = rets.columns)\n",
    "    return weights\n",
    "\n",
    "# Portfolio Volatility\n",
    "def pf_vol(weights, cov):\n",
    "    return (weights.T @ cov @ weights)**0.5\n",
    "\n",
    "# Risk-contributions for each asset towards the overall portfolio volatility\n",
    "def risk_cont(weights, cov):\n",
    "    pf_volatility = pf_vol(weights, cov) ** 2\n",
    "    risk = cov@weights\n",
    "    risk_contribution = np.multiply(risk, weights.T)/pf_volatility\n",
    "    return risk_contribution"
   ]
  },
  {
   "cell_type": "code",
   "execution_count": 23,
   "metadata": {},
   "outputs": [
    {
     "data": {
      "text/plain": [
       "<matplotlib.axes._subplots.AxesSubplot at 0x225e8bacc18>"
      ]
     },
     "execution_count": 23,
     "metadata": {},
     "output_type": "execute_result"
    },
    {
     "data": {
      "image/png": "[encoded data removed]",
      "text/plain": [
       "<Figure size 432x288 with 1 Axes>"
      ]
     },
     "metadata": {
      "needs_background": "light"
     },
     "output_type": "display_data"
    }
   ],
   "source": [
    "# Risk-contributions for an equally-weighted portfolio\n",
    "risk_cont(equal_weights(rets), cov).plot.bar(title = \"Risk allocation of an equally-weight dollar portfolio\")"
   ]
  },
  {
   "cell_type": "code",
   "execution_count": 29,
   "metadata": {},
   "outputs": [],
   "source": [
    "from scipy.optimize import minimize\n",
    "\n",
    "# Find optimal dollar weights such that the risk-contributions meet a target contribution level, in this case being 1/n = 0.2 for each asset\n",
    "\n",
    "def t_risk_cont(t_risk, cov):\n",
    "    n = cov.shape[0]\n",
    "    initial_guess = np.repeat(1/n, n)\n",
    "    bounds = ((0, 1),) * n\n",
    "    weights_constraint = {'type': 'eq',\n",
    "                         'fun': lambda weights: np.sum(weights) - 1}\n",
    "    def msd(weights, t_risk, cov):\n",
    "        contributions = risk_cont(weights, cov)\n",
    "        return ((contributions - t_risk)**2).sum()\n",
    "    \n",
    "    weights = minimize(msd, initial_guess,\n",
    "                       args=(t_risk, cov), method='SLSQP',\n",
    "                       options={'disp': False},\n",
    "                       constraints=(weights_constraint,),\n",
    "                       bounds=bounds)\n",
    "    return weights.x\n",
    "\n",
    "def equal_risk_cont(cov):\n",
    "    n = cov.shape[0]\n",
    "    return t_risk_cont(np.repeat(1/n, n), cov)"
   ]
  },
  {
   "cell_type": "code",
   "execution_count": 30,
   "metadata": {},
   "outputs": [
    {
     "data": {
      "text/plain": [
       "<matplotlib.axes._subplots.AxesSubplot at 0x225e8c26d30>"
      ]
     },
     "execution_count": 30,
     "metadata": {},
     "output_type": "execute_result"
    },
    {
     "data": {
      "image/png": "[encoded data removed]",
      "text/plain": [
       "<Figure size 432x288 with 1 Axes>"
      ]
     },
     "metadata": {
      "needs_background": "light"
     },
     "output_type": "display_data"
    }
   ],
   "source": [
    "# Risk-parity allocation levels for risk. We see that they are equal i.e 0.2\n",
    "\n",
    "risk_cont(equal_risk_cont(cov), cov).plot.bar(title=\"Risk Contributions of a Risk Parity portfolio\")"
   ]
  },
  {
   "cell_type": "code",
   "execution_count": 50,
   "metadata": {},
   "outputs": [
    {
     "data": {
      "text/html": [
       "<div>\n",
       "<style scoped>\n",
       "    .dataframe tbody tr th:only-of-type {\n",
       "        vertical-align: middle;\n",
       "    }\n",
       "\n",
       "    .dataframe tbody tr th {\n",
       "        vertical-align: top;\n",
       "    }\n",
       "\n",
       "    .dataframe thead th {\n",
       "        text-align: right;\n",
       "    }\n",
       "</style>\n",
       "<table border=\"1\" class=\"dataframe\">\n",
       "  <thead>\n",
       "    <tr style=\"text-align: right;\">\n",
       "      <th></th>\n",
       "      <th>Weight</th>\n",
       "    </tr>\n",
       "  </thead>\n",
       "  <tbody>\n",
       "    <tr>\n",
       "      <th>Manuf</th>\n",
       "      <td>16.508594</td>\n",
       "    </tr>\n",
       "    <tr>\n",
       "      <th>Enrgy</th>\n",
       "      <td>9.154375</td>\n",
       "    </tr>\n",
       "    <tr>\n",
       "      <th>Telcm</th>\n",
       "      <td>19.352918</td>\n",
       "    </tr>\n",
       "    <tr>\n",
       "      <th>Utils</th>\n",
       "      <td>38.005441</td>\n",
       "    </tr>\n",
       "    <tr>\n",
       "      <th>Hlth</th>\n",
       "      <td>16.978672</td>\n",
       "    </tr>\n",
       "  </tbody>\n",
       "</table>\n",
       "</div>"
      ],
      "text/plain": [
       "          Weight\n",
       "Manuf  16.508594\n",
       "Enrgy   9.154375\n",
       "Telcm  19.352918\n",
       "Utils  38.005441\n",
       "Hlth   16.978672"
      ]
     },
     "execution_count": 50,
     "metadata": {},
     "output_type": "execute_result"
    }
   ],
   "source": [
    "# Find optimal weights to put in each industry based on the above risk-allocation levels above of 0.2\n",
    "\n",
    "def sample_covariance(rets):\n",
    "    return rets.cov()\n",
    "\n",
    "def weight_rp(rets):\n",
    "    est_cov = sample_covariance(rets)\n",
    "    return equal_risk_cont(est_cov)\n",
    "\n",
    "pd.DataFrame(weight_rp(rets) * 100, index = rets.columns, columns = [\"Weight\"])"
   ]
  },
  {
   "cell_type": "markdown",
   "metadata": {},
   "source": [
    "Based on the equally-weighted risk allocations in cell 23, \"Util\" has the lowest volatility at around 7%. For a risk-parity portfolio, the assets with lower volatility in cell 23 get a larger weight-allocation of 38% as seen with \"Util\" (cell 50), as in the end all risk-allocations are equal at 0.2. \n",
    "\n",
    "As for \"Enrgy\", we see high volatility of around 37% in cell 23, so it will get a smaller weight-allocation of 9.15% in the risk-parity portfolio (cell 50)."
   ]
  },
  {
   "cell_type": "code",
   "execution_count": null,
   "metadata": {},
   "outputs": [],
   "source": []
  }
 ],
 "metadata": {
  "kernelspec": {
   "display_name": "Python 3",
   "language": "python",
   "name": "python3"
  },
  "language_info": {
   "codemirror_mode": {
    "name": "ipython",
    "version": 3
   },
   "file_extension": ".py",
   "mimetype": "text/x-python",
   "name": "python",
   "nbconvert_exporter": "python",
   "pygments_lexer": "ipython3",
   "version": "3.7.3"
  }
 },
 "nbformat": 4,
 "nbformat_minor": 2
}
